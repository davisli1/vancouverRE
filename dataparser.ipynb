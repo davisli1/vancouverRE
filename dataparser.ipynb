{
 "metadata": {
  "language_info": {
   "codemirror_mode": {
    "name": "ipython",
    "version": 3
   },
   "file_extension": ".py",
   "mimetype": "text/x-python",
   "name": "python",
   "nbconvert_exporter": "python",
   "pygments_lexer": "ipython3",
   "version": "3.8.3-final"
  },
  "orig_nbformat": 2,
  "kernelspec": {
   "name": "python3",
   "display_name": "Python 3",
   "language": "python"
  }
 },
 "nbformat": 4,
 "nbformat_minor": 2,
 "cells": [
  {
   "source": [
    "from bs4 import BeautifulSoup as soup \n",
    "from urllib.request import urlopen as uReq \n",
    "from urllib.request import Request, urlopen"
   ],
   "cell_type": "code",
   "metadata": {},
   "execution_count": 9,
   "outputs": []
  },
  {
   "cell_type": "code",
   "execution_count": 15,
   "metadata": {},
   "outputs": [],
   "source": [
    "#assigning URL to scrap from\n",
    "page_url = \"https://www.rew.ca/properties/areas/vancouver-bc/page/1?ajax=true\"\n",
    "req = Request(page_url, headers={'User-Agent': 'Mozilla/5.0'})\n",
    "html = urlopen(req).read()"
   ]
  },
  {
   "cell_type": "code",
   "execution_count": 36,
   "metadata": {},
   "outputs": [],
   "source": [
    "page_soup = soup(html, \"html.parser\")\n",
    "containers = page_soup.findAll(\"div\", {\"class\": \"displaypanel-content\"})"
   ]
  },
  {
   "cell_type": "code",
   "execution_count": 23,
   "metadata": {},
   "outputs": [],
   "source": [
    "out_filename = \"RE_house_listings.csv\"\n",
    "headers = 'price, sqft,bathrooms, bedrooms, type, region, address, city \\n'"
   ]
  },
  {
   "cell_type": "code",
   "execution_count": 24,
   "metadata": {},
   "outputs": [
    {
     "output_type": "execute_result",
     "data": {
      "text/plain": [
       "62"
      ]
     },
     "metadata": {},
     "execution_count": 24
    }
   ],
   "source": [
    "f = open(out_filename, \"w\")\n",
    "f.write(headers)"
   ]
  },
  {
   "cell_type": "code",
   "execution_count": null,
   "metadata": {},
   "outputs": [],
   "source": [
    "for container in containers:\n",
    "    pricing = container.div"
   ]
  },
  {
   "cell_type": "code",
   "execution_count": 38,
   "metadata": {
    "tags": [
     "outputPrepend"
    ]
   },
   "outputs": [
    {
     "output_type": "stream",
     "name": "stdout",
     "text": [
      "/div>\n<div class=\"col-lg-9 displaypanel-details\">\n<header>Crystal Hung PREC*</header>\n<section>Icon Marketing Inc.</section>\n</div>\n<div class=\"displaypanel-actions\">\n<span data-bookmarkable=\"\" id=\"bookmark_button_property_3049215\">\n<a class=\"favoritebookmark\" data-ajax-method=\"post\" data-bookmarkable-id=\"3049215\" data-bookmarkable-type=\"Listing::ForSale\" data-button-id=\"bookmark_button_property_3049215\" data-button-style=\"clear\" data-track-event=\"bookmarkProperty\" data-track-event-arguments='[\"Sell\"]' href=\"/bookmarks\"><i class=\"rewicon rewicon-heart\"></i>\n<i class=\"rewicon rewicon-heart-o\"></i>\n<img class=\"favoritebookmark-loadingindicator hidden\" src=\"https://assets.rew.ca/assets/misc/spinner-1308f38e8732033b21b91b3bb5e6066087c33eca1ea797039250df1c312c7851.svg\"/>\n</a>\n</span>\n</div>\n</footer>\n</div>, <div class=\"displaypanel-content\">\n<div class=\"displaypanel-body\">\n<a href=\"/properties/3047907/8191-elliott-street-vancouver-bc?page=1&amp;search_params%5Bquery%5D=Vancouver%2C+BC&amp;searchable_id=361&amp;searchable_type=Geography\" title=\"8191 Elliott Street, Vancouver, BC, V5S 2P3\"><div class=\"displaypanel-title hidden-xs\">\n$1,498,000\n</div>\n<div class=\"displaypanel-section\" data-tracking-url=\"https://www.rew.ca/track_click?business_entity_id=3047907&amp;event_name=log_listing_click&amp;page_code=lsrp&amp;widget_code=lsrc\">\n8191 Elliott Street\n<ul class=\"l-pipedlist displaypanel-info\">\n<li>Fraserview East</li>\n<li>Vancouver</li>\n</ul>\n</div>\n<div class=\"displaypanel-section clearfix\">\n<ul class=\"l-pipedlist\"><li>5 bd</li>\n<li>3 ba</li>\n<li>2370 sf</li>\n<li>47 x 123 ft</li>\n</ul>\n</div>\n<div class=\"clearfix hidden-xs\">\n<div class=\"displaypanel-info\">House</div>\n</div>\n</a></div>\n<footer>\n<div class=\"col-sm-3 displaypanel-pic_inline hidden-xs\">\n<img class=\"img-responsive center-block\" sizes=\"100vw\" src=\"https://assets-prod.rew.ca/property-agent/image/4613/dtej7zonr8ddn1ytduox.png?trim=&amp;fit=crop&amp;w=150&amp;h=150&amp;mask=ellipse&amp;crop=faces&amp;fm=png\" srcset=\"https://assets-prod.rew.ca/property-agent/image/4613/dtej7zonr8ddn1ytduox.png?trim=&amp;fit=crop&amp;w=200&amp;h=200&amp;mask=ellipse&amp;crop=faces&amp;fm=png 200w\"/>\n</div>\n<div class=\"col-lg-9 displaypanel-details\">\n<header>Michelle Yu PREC*</header>\n<section>RE/MAX Real Estate Services</section>\n</div>\n<div class=\"displaypanel-actions\">\n<span data-bookmarkable=\"\" id=\"bookmark_button_property_3047907\">\n<a class=\"favoritebookmark\" data-ajax-method=\"post\" data-bookmarkable-id=\"3047907\" data-bookmarkable-type=\"Listing::ForSale\" data-button-id=\"bookmark_button_property_3047907\" data-button-style=\"clear\" data-track-event=\"bookmarkProperty\" data-track-event-arguments='[\"Sell\"]' href=\"/bookmarks\"><i class=\"rewicon rewicon-heart\"></i>\n<i class=\"rewicon rewicon-heart-o\"></i>\n<img class=\"favoritebookmark-loadingindicator hidden\" src=\"https://assets.rew.ca/assets/misc/spinner-1308f38e8732033b21b91b3bb5e6066087c33eca1ea797039250df1c312c7851.svg\"/>\n</a>\n</span>\n</div>\n</footer>\n</div>, <div class=\"displaypanel-content\">\n<div class=\"displaypanel-body\">\n<a href=\"/properties/3046436/989-w-64th-avenue-vancouver-bc?page=1&amp;search_params%5Bquery%5D=Vancouver%2C+BC&amp;searchable_id=361&amp;searchable_type=Geography\" title=\"989 W 64th Avenue, Vancouver, BC, V6P 2M2\"><div class=\"displaypanel-title hidden-xs\">\n$2,380,000\n</div>\n<div class=\"displaypanel-section\" data-tracking-url=\"https://www.rew.ca/track_click?business_entity_id=3046436&amp;event_name=log_listing_click&amp;page_code=lsrp&amp;widget_code=lsrc\">\n989 W 64th Avenue\n<ul class=\"l-pipedlist displaypanel-info\">\n<li>Marpole</li>\n<li>Vancouver</li>\n</ul>\n</div>\n<div class=\"displaypanel-section clearfix\">\n<ul class=\"l-pipedlist\"><li>4 bd</li>\n<li>4 ba</li>\n<li>2581 sf</li>\n<li>35 x 118 ft</li>\n</ul>\n</div>\n<div class=\"clearfix hidden-xs\">\n<div class=\"displaypanel-info\">House</div>\n</div>\n</a></div>\n<footer>\n<div class=\"col-sm-3 displaypanel-pic_inline hidden-xs\">\n<img class=\"img-responsive center-block\" sizes=\"100vw\" src=\"https://assets-prod.rew.ca/property-agent/image/73344/i2ks5k5ve3ov4dsdh0uu.png?trim=&amp;fit=crop&amp;w=150&amp;h=150&amp;mask=ellipse&amp;crop=faces&amp;fm=png\" srcset=\"https://assets-prod.rew.ca/property-agent/image/73344/i2ks5k5ve3ov4dsdh0uu.png?trim=&amp;fit=crop&amp;w=200&amp;h=200&amp;mask=ellipse&amp;crop=faces&amp;fm=png 200w\"/>\n</div>\n<div class=\"col-lg-9 displaypanel-details\">\n<header>Karen Zhao PREC*</header>\n<section>RE/MAX Crest Realty</section>\n</div>\n<div class=\"displaypanel-actions\">\n<span data-bookmarkable=\"\" id=\"bookmark_button_property_3046436\">\n<a class=\"favoritebookmark\" data-ajax-method=\"post\" data-bookmarkable-id=\"3046436\" data-bookmarkable-type=\"Listing::ForSale\" data-button-id=\"bookmark_button_property_3046436\" data-button-style=\"clear\" data-track-event=\"bookmarkProperty\" data-track-event-arguments='[\"Sell\"]' href=\"/bookmarks\"><i class=\"rewicon rewicon-heart\"></i>\n<i class=\"rewicon rewicon-heart-o\"></i>\n<img class=\"favoritebookmark-loadingindicator hidden\" src=\"https://assets.rew.ca/assets/misc/spinner-1308f38e8732033b21b91b3bb5e6066087c33eca1ea797039250df1c312c7851.svg\"/>\n</a>\n</span>\n</div>\n</footer>\n</div>, <div class=\"displaypanel-content\">\n<div class=\"displaypanel-body\">\n<a href=\"/properties/3047273/2253-e-35th-avenue-vancouver-bc?page=1&amp;search_params%5Bquery%5D=Vancouver%2C+BC&amp;searchable_id=361&amp;searchable_type=Geography\" title=\"2253 E 35th Avenue, Vancouver, BC, V5P 1C1\"><div class=\"displaypanel-title hidden-xs\">\n$795,000\n</div>\n<div class=\"displaypanel-section\" data-tracking-url=\"https://www.rew.ca/track_click?business_entity_id=3047273&amp;event_name=log_listing_click&amp;page_code=lsrp&amp;widget_code=lsrc\">\n2253 E 35th Avenue\n<ul class=\"l-pipedlist displaypanel-info\">\n<li>Victoria East</li>\n<li>Vancouver</li>\n</ul>\n</div>\n<div class=\"displaypanel-section clearfix\">\n<ul class=\"l-pipedlist\"><li>2 bd</li>\n<li>2 ba</li>\n<li>785 sf</li>\n<li>66 x 132 ft</li>\n</ul>\n</div>\n<div class=\"clearfix hidden-xs\">\n<div class=\"displaypanel-info\">Duplex</div>\n</div>\n</a></div>\n<footer>\n<div class=\"col-sm-3 displaypanel-pic_inline hidden-xs\">\n<img class=\"img-responsive center-block\" sizes=\"100vw\" src=\"https://assets-prod.rew.ca/property-agent/image/40511/2a0352f1337e55e1.jpg?trim=&amp;fit=crop&amp;w=150&amp;h=150&amp;mask=ellipse&amp;crop=faces&amp;fm=png\" srcset=\"https://assets-prod.rew.ca/property-agent/image/40511/2a0352f1337e55e1.jpg?trim=&amp;fit=crop&amp;w=200&amp;h=200&amp;mask=ellipse&amp;crop=faces&amp;fm=png 200w\"/>\n</div>\n<div class=\"col-lg-9 displaypanel-details\">\n<header>Rimpy Hothi PREC*</header>\n<section>Sutton Group-West Coast Realty</section>\n</div>\n<div class=\"displaypanel-actions\">\n<span data-bookmarkable=\"\" id=\"bookmark_button_property_3047273\">\n<a class=\"favoritebookmark\" data-ajax-method=\"post\" data-bookmarkable-id=\"3047273\" data-bookmarkable-type=\"Listing::ForSale\" data-button-id=\"bookmark_button_property_3047273\" data-button-style=\"clear\" data-track-event=\"bookmarkProperty\" data-track-event-arguments='[\"Sell\"]' href=\"/bookmarks\"><i class=\"rewicon rewicon-heart\"></i>\n<i class=\"rewicon rewicon-heart-o\"></i>\n<img class=\"favoritebookmark-loadingindicator hidden\" src=\"https://assets.rew.ca/assets/misc/spinner-1308f38e8732033b21b91b3bb5e6066087c33eca1ea797039250df1c312c7851.svg\"/>\n</a>\n</span>\n</div>\n</footer>\n</div>, <div class=\"displaypanel-content\">\n<div class=\"displaypanel-body\">\n<a href=\"/properties/3047149/731-w-17th-avenue-vancouver-bc?page=1&amp;search_params%5Bquery%5D=Vancouver%2C+BC&amp;searchable_id=361&amp;searchable_type=Geography\" title=\"731 W 17th Avenue, Vancouver, BC, V5Z 1V1\"><div class=\"displaypanel-title hidden-xs\">\n$3,838,000\n</div>\n<div class=\"displaypanel-section\" data-tracking-url=\"https://www.rew.ca/track_click?business_entity_id=3047149&amp;event_name=log_listing_click&amp;page_code=lsrp&amp;widget_code=lsrc\">\n731 W 17th Avenue\n<ul class=\"l-pipedlist displaypanel-info\">\n<li>Fairview</li>\n<li>Vancouver</li>\n</ul>\n</div>\n<div class=\"displaypanel-section clearfix\">\n<ul class=\"l-pipedlist\"><li>4 bd</li>\n<li>8 ba</li>\n<li>3270 sf</li>\n<li>33 x 122 ft</li>\n</ul>\n</div>\n<div class=\"clearfix hidden-xs\">\n<div class=\"displaypanel-info\">House</div>\n</div>\n</a></div>\n<footer>\n<div class=\"col-sm-3 displaypanel-pic_inline hidden-xs\">\n<img class=\"img-responsive center-block\" sizes=\"100vw\" src=\"https://assets-prod.rew.ca/property-agent/image/4613/dtej7zonr8ddn1ytduox.png?trim=&amp;fit=crop&amp;w=150&amp;h=150&amp;mask=ellipse&amp;crop=faces&amp;fm=png\" srcset=\"https://assets-prod.rew.ca/property-agent/image/4613/dtej7zonr8ddn1ytduox.png?trim=&amp;fit=crop&amp;w=200&amp;h=200&amp;mask=ellipse&amp;crop=faces&amp;fm=png 200w\"/>\n</div>\n<div class=\"col-lg-9 displaypanel-details\">\n<header>Michelle Yu PREC*</header>\n<section>RE/MAX Real Estate Services</section>\n</div>\n<div class=\"displaypanel-actions\">\n<span data-bookmarkable=\"\" id=\"bookmark_button_property_3047149\">\n<a class=\"favoritebookmark\" data-ajax-method=\"post\" data-bookmarkable-id=\"3047149\" data-bookmarkable-type=\"Listing::ForSale\" data-button-id=\"bookmark_button_property_3047149\" data-button-style=\"clear\" data-track-event=\"bookmarkProperty\" data-track-event-arguments='[\"Sell\"]' href=\"/bookmarks\"><i class=\"rewicon rewicon-heart\"></i>\n<i class=\"rewicon rewicon-heart-o\"></i>\n<img class=\"favoritebookmark-loadingindicator hidden\" src=\"https://assets.rew.ca/assets/misc/spinner-1308f38e8732033b21b91b3bb5e6066087c33eca1ea797039250df1c312c7851.svg\"/>\n</a>\n</span>\n</div>\n</footer>\n</div>, <div class=\"displaypanel-content\">\n<div class=\"displaypanel-body\">\n<a href=\"/properties/3046274/1938-e-64th-avenue-vancouver-bc?page=1&amp;search_params%5Bquery%5D=Vancouver%2C+BC&amp;searchable_id=361&amp;searchable_type=Geography\" title=\"1938 E 64th Avenue, Vancouver, BC, V5P 2N1\"><div class=\"displaypanel-title hidden-xs\">\n$1,980,000\n</div>\n<div class=\"displaypanel-section\" data-tracking-url=\"https://www.rew.ca/track_click?business_entity_id=3046274&amp;event_name=log_listing_click&amp;page_code=lsrp&amp;widget_code=lsrc\">\n1938 E 64th Avenue\n<ul class=\"l-pipedlist displaypanel-info\">\n<li>Fraserview East</li>\n<li>Vancouver</li>\n</ul>\n</div>\n<div class=\"displaypanel-section clearfix\">\n<ul class=\"l-pipedlist\"><li>6 bd</li>\n<li>5 ba</li>\n<li>3024 sf</li>\n<li>44 x 110 ft</li>\n</ul>\n</div>\n<div class=\"clearfix hidden-xs\">\n<div class=\"displaypanel-info\">House</div>\n</div>\n</a></div>\n<footer>\n<div class=\"col-sm-3 displaypanel-pic_inline hidden-xs\">\n<img class=\"img-responsive center-block\" sizes=\"100vw\" src=\"https://assets-prod.rew.ca/property-agent/image/3072/800_Danny-Chow_mls_crop.jpg?trim=&amp;fit=crop&amp;w=150&amp;h=150&amp;mask=ellipse&amp;crop=focalpoint&amp;fm=png&amp;fp-x=0.49333333333333335&amp;fp-y=0.4733333333333334&amp;fp-z=1\" srcset=\"https://assets-prod.rew.ca/property-agent/image/3072/800_Danny-Chow_mls_crop.jpg?trim=&amp;fit=crop&amp;w=200&amp;h=200&amp;mask=ellipse&amp;crop=focalpoint&amp;fm=png&amp;fp-x=0.49333333333333335&amp;fp-y=0.4733333333333334&amp;fp-z=1 200w\"/>\n</div>\n<div class=\"col-lg-9 displaypanel-details\">\n<header>Danny Chow PREC*</header>\n<section>Rennie &amp; Associates Realty Ltd.</section>\n</div>\n<div class=\"displaypanel-actions\">\n<span data-bookmarkable=\"\" id=\"bookmark_button_property_3046274\">\n<a class=\"favoritebookmark\" data-ajax-method=\"post\" data-bookmarkable-id=\"3046274\" data-bookmarkable-type=\"Listing::ForSale\" data-button-id=\"bookmark_button_property_3046274\" data-button-style=\"clear\" data-track-event=\"bookmarkProperty\" data-track-event-arguments='[\"Sell\"]' href=\"/bookmarks\"><i class=\"rewicon rewicon-heart\"></i>\n<i class=\"rewicon rewicon-heart-o\"></i>\n<img class=\"favoritebookmark-loadingindicator hidden\" src=\"https://assets.rew.ca/assets/misc/spinner-1308f38e8732033b21b91b3bb5e6066087c33eca1ea797039250df1c312c7851.svg\"/>\n</a>\n</span>\n</div>\n</footer>\n</div>, <div class=\"displaypanel-content\">\n<div class=\"displaypanel-body\">\n<a href=\"/properties/3046230/317-1422-e-3rd-avenue-vancouver-bc?page=1&amp;search_params%5Bquery%5D=Vancouver%2C+BC&amp;searchable_id=361&amp;searchable_type=Geography\" title=\"317-1422 E 3rd Avenue, Vancouver, BC, V5N 5R5\"><div class=\"displaypanel-title hidden-xs\">\n$549,000\n</div>\n<div class=\"displaypanel-section\" data-tracking-url=\"https://www.rew.ca/track_click?business_entity_id=3046230&amp;event_name=log_listing_click&amp;page_code=lsrp&amp;widget_code=lsrc\">\n317 1422 E 3rd Avenue\n<ul class=\"l-pipedlist displaypanel-info\">\n<li>Grandview East</li>\n<li>Vancouver</li>\n</ul>\n</div>\n<div class=\"displaypanel-section clearfix\">\n<ul class=\"l-pipedlist\"><li>1 bd</li>\n<li>1 ba</li>\n<li>635 sf</li>\n</ul>\n</div>\n<div class=\"clearfix hidden-xs\">\n<div class=\"displaypanel-info\">Apt/Condo</div>\n</div>\n</a></div>\n<footer>\n<div class=\"col-sm-3 displaypanel-pic_inline hidden-xs\">\n<img class=\"img-responsive center-block\" sizes=\"100vw\" src=\"https://assets-prod.rew.ca/property-agent/image/5066/4939_john_head.jpg?trim=&amp;fit=crop&amp;w=150&amp;h=150&amp;mask=ellipse&amp;crop=focalpoint&amp;fm=png&amp;fp-x=0.5&amp;fp-y=0.3603174603174605&amp;fp-z=1.4\" srcset=\"https://assets-prod.rew.ca/property-agent/image/5066/4939_john_head.jpg?trim=&amp;fit=crop&amp;w=200&amp;h=200&amp;mask=ellipse&amp;crop=focalpoint&amp;fm=png&amp;fp-x=0.5&amp;fp-y=0.3603174603174605&amp;fp-z=1.4 200w\"/>\n</div>\n<div class=\"col-lg-9 displaypanel-details\">\n<header>John Ly PREC*</header>\n<section>Oakwyn Realty Ltd.</section>\n</div>\n<div class=\"displaypanel-actions\">\n<span data-bookmarkable=\"\" id=\"bookmark_button_property_3046230\">\n<a class=\"favoritebookmark\" data-ajax-method=\"post\" data-bookmarkable-id=\"3046230\" data-bookmarkable-type=\"Listing::ForSale\" data-button-id=\"bookmark_button_property_3046230\" data-button-style=\"clear\" data-track-event=\"bookmarkProperty\" data-track-event-arguments='[\"Sell\"]' href=\"/bookmarks\"><i class=\"rewicon rewicon-heart\"></i>\n<i class=\"rewicon rewicon-heart-o\"></i>\n<img class=\"favoritebookmark-loadingindicator hidden\" src=\"https://assets.rew.ca/assets/misc/spinner-1308f38e8732033b21b91b3bb5e6066087c33eca1ea797039250df1c312c7851.svg\"/>\n</a>\n</span>\n</div>\n</footer>\n</div>, <div class=\"displaypanel-content\">\n<div class=\"displaypanel-body\">\n<a href=\"/properties/3045919/2-2375-w-broadway-vancouver-bc?page=1&amp;search_params%5Bquery%5D=Vancouver%2C+BC&amp;searchable_id=361&amp;searchable_type=Geography\" title=\"2-2375 W Broadway, Vancouver, BC, V6K 2E6\"><div class=\"displaypanel-title hidden-xs\">\n$469,000\n</div>\n<div class=\"displaypanel-section\" data-tracking-url=\"https://www.rew.ca/track_click?business_entity_id=3045919&amp;event_name=log_listing_click&amp;page_code=lsrp&amp;widget_code=lsrc\">\n2 2375 W Broadway\n<ul class=\"l-pipedlist displaypanel-info\">\n<li>Kitsilano</li>\n<li>Vancouver</li>\n</ul>\n</div>\n<div class=\"displaypanel-section clearfix\">\n<div class=\"visible-xs pull-right statustag statustag--graydark\">\nV Tour\n</div>\n<ul class=\"l-pipedlist\"><li>0 bd</li>\n<li>1 ba</li>\n<li>481 sf</li>\n</ul>\n</div>\n<div class=\"clearfix hidden-xs\">\n<div class=\"pull-right\">\n<div class=\"statustag statustag--graydark\">\nV Tour\n</div>\n</div>\n<div class=\"displaypanel-info\">Apt/Condo</div>\n</div>\n</a></div>\n<footer>\n<div class=\"col-sm-3 displaypanel-pic_inline hidden-xs\">\n<img class=\"img-responsive center-block\" sizes=\"100vw\" src=\"https://assets-prod.rew.ca/property-agent/image/3964/4338_Pic_1.jpg?trim=&amp;fit=crop&amp;w=150&amp;h=150&amp;mask=ellipse&amp;crop=focalpoint&amp;fm=png&amp;fp-x=0.5&amp;fp-y=0.3743337819650068&amp;fp-z=1\" srcset=\"https://assets-prod.rew.ca/property-agent/image/3964/4338_Pic_1.jpg?trim=&amp;fit=crop&amp;w=200&amp;h=200&amp;mask=ellipse&amp;crop=focalpoint&amp;fm=png&amp;fp-x=0.5&amp;fp-y=0.3743337819650068&amp;fp-z=1 200w\"/>\n</div>\n<div class=\"col-lg-9 displaypanel-details\">\n<header>David Kenny PREC*</header>\n<section>Sutton Group-West Coast Realty</section>\n</div>\n<div class=\"displaypanel-actions\">\n<span data-bookmarkable=\"\" id=\"bookmark_button_property_3045919\">\n<a class=\"favoritebookmark\" data-ajax-method=\"post\" data-bookmarkable-id=\"3045919\" data-bookmarkable-type=\"Listing::ForSale\" data-button-id=\"bookmark_button_property_3045919\" data-button-style=\"clear\" data-track-event=\"bookmarkProperty\" data-track-event-arguments='[\"Sell\"]' href=\"/bookmarks\"><i class=\"rewicon rewicon-heart\"></i>\n<i class=\"rewicon rewicon-heart-o\"></i>\n<img class=\"favoritebookmark-loadingindicator hidden\" src=\"https://assets.rew.ca/assets/misc/spinner-1308f38e8732033b21b91b3bb5e6066087c33eca1ea797039250df1c312c7851.svg\"/>\n</a>\n</span>\n</div>\n</footer>\n</div>, <div class=\"displaypanel-content\">\n<div class=\"displaypanel-body\">\n<a href=\"/properties/3045907/1407-977-mainland-street-vancouver-bc?page=1&amp;search_params%5Bquery%5D=Vancouver%2C+BC&amp;searchable_id=361&amp;searchable_type=Geography\" title=\"1407-977 Mainland Street, Vancouver, BC, V6B 1T2\"><div class=\"displaypanel-title hidden-xs\">\n$655,000\n</div>\n<div class=\"displaypanel-section\" data-tracking-url=\"https://www.rew.ca/track_click?business_entity_id=3045907&amp;event_name=log_listing_click&amp;page_code=lsrp&amp;widget_code=lsrc\">\n1407 977 Mainland Street\n<ul class=\"l-pipedlist displaypanel-info\">\n<li>Yaletown</li>\n<li>Vancouver</li>\n</ul>\n</div>\n<div class=\"displaypanel-section clearfix\">\n<div class=\"visible-xs pull-right statustag statustag--graydark\">\nV Tour\n</div>\n<ul class=\"l-pipedlist\"><li>1 bd</li>\n<li>1 ba</li>\n<li>561 sf</li>\n</ul>\n</div>\n<div class=\"clearfix hidden-xs\">\n<div class=\"pull-right\">\n<div class=\"statustag statustag--graydark\">\nV Tour\n</div>\n</div>\n<div class=\"displaypanel-info\">Apt/Condo</div>\n</div>\n</a></div>\n<footer>\n<div class=\"col-sm-3 displaypanel-pic_inline hidden-xs\">\n<img class=\"img-responsive center-block\" sizes=\"100vw\" src=\"https://assets-prod.rew.ca/property-agent/image/34331/7768_TC3.JPG.JPG?trim=&amp;fit=crop&amp;w=150&amp;h=150&amp;mask=ellipse&amp;crop=focalpoint&amp;fm=png&amp;fp-x=0.618888888888889&amp;fp-y=0.4541666666666666&amp;fp-z=1.6\" srcset=\"https://assets-prod.rew.ca/property-agent/image/34331/7768_TC3.JPG.JPG?trim=&amp;fit=crop&amp;w=200&amp;h=200&amp;mask=ellipse&amp;crop=focalpoint&amp;fm=png&amp;fp-x=0.618888888888889&amp;fp-y=0.4541666666666666&amp;fp-z=1.6 200w\"/>\n</div>\n<div class=\"col-lg-9 displaypanel-details\">\n<header>Thomas Chung</header>\n<section>Macdonald Realty Westmar</section>\n</div>\n<div class=\"displaypanel-actions\">\n<span data-bookmarkable=\"\" id=\"bookmark_button_property_3045907\">\n<a class=\"favoritebookmark\" data-ajax-method=\"post\" data-bookmarkable-id=\"3045907\" data-bookmarkable-type=\"Listing::ForSale\" data-button-id=\"bookmark_button_property_3045907\" data-button-style=\"clear\" data-track-event=\"bookmarkProperty\" data-track-event-arguments='[\"Sell\"]' href=\"/bookmarks\"><i class=\"rewicon rewicon-heart\"></i>\n<i class=\"rewicon rewicon-heart-o\"></i>\n<img class=\"favoritebookmark-loadingindicator hidden\" src=\"https://assets.rew.ca/assets/misc/spinner-1308f38e8732033b21b91b3bb5e6066087c33eca1ea797039250df1c312c7851.svg\"/>\n</a>\n</span>\n</div>\n</footer>\n</div>, <div class=\"displaypanel-content\">\n<a href=\"/properties/2734274/1006-1333-w-georgia-street-vancouver-bc\"><div class=\"displaypanel-body\">\n<div class=\"displaypanel-title\">$1,199,000</div>\n<div class=\"displaypanel-section clearfix\">1006-1333 W Georgia Street</div>\n<div class=\"displaypanel-section\">\n<ul class=\"l-pipedlist\">\n<li>2 bd</li>\n<li>2 ba</li>\n<li>968 sf</li>\n</ul>\n</div>\n</div>\n</a><footer>\n<div class=\"displaypanel-details col-lg-9\">\n<section>Sotheby's International Realty Canada</section>\n</div>\n</footer>\n</div>, <div class=\"displaypanel-content\">\n<a href=\"/properties/3022856/1110-939-homer-street-vancouver-bc\"><div class=\"displaypanel-body\">\n<div class=\"displaypanel-title\">$498,000</div>\n<div class=\"displaypanel-section clearfix\">1110-939 Homer Street</div>\n<div class=\"displaypanel-section\">\n<ul class=\"l-pipedlist\">\n<li>1 bd</li>\n<li>1 ba</li>\n<li>443 sf</li>\n</ul>\n</div>\n</div>\n</a><footer>\n<div class=\"displaypanel-details col-lg-9\">\n<section>Sotheby's International Realty Canada</section>\n</div>\n</footer>\n</div>]\n"
     ]
    }
   ],
   "source": [
    "print(containers)"
   ]
  },
  {
   "cell_type": "code",
   "execution_count": 40,
   "metadata": {},
   "outputs": [],
   "source": [
    "containertest = containers[0]"
   ]
  },
  {
   "cell_type": "code",
   "execution_count": 50,
   "metadata": {},
   "outputs": [
    {
     "output_type": "stream",
     "name": "stdout",
     "text": [
      "$1,275,000\n"
     ]
    }
   ],
   "source": [
    "print(containertest.findAll('div', {'class': 'displaypanel-title hidden-xs'})[0].text.strip())"
   ]
  },
  {
   "cell_type": "code",
   "execution_count": null,
   "metadata": {},
   "outputs": [],
   "source": []
  }
 ]
}