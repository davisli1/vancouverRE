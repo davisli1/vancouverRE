{
 "metadata": {
  "language_info": {
   "codemirror_mode": {
    "name": "ipython",
    "version": 3
   },
   "file_extension": ".py",
   "mimetype": "text/x-python",
   "name": "python",
   "nbconvert_exporter": "python",
   "pygments_lexer": "ipython3",
   "version": "3.8.3-final"
  },
  "orig_nbformat": 2,
  "kernelspec": {
   "name": "python3",
   "display_name": "Python 3",
   "language": "python"
  }
 },
 "nbformat": 4,
 "nbformat_minor": 2,
 "cells": [
  {
   "source": [
    "from bs4 import BeautifulSoup as soup \n",
    "from urllib.request import urlopen as uReq \n",
    "from urllib.request import Request, urlopen"
   ],
   "cell_type": "code",
   "metadata": {},
   "execution_count": 235,
   "outputs": []
  },
  {
   "cell_type": "code",
   "execution_count": 236,
   "metadata": {},
   "outputs": [],
   "source": [
    "#assigning URL to scrap from\n",
    "page_url = \"https://www.rew.ca/properties/areas/vancouver-bc/page/1?ajax=true\"\n",
    "req = Request(page_url, headers={'User-Agent': 'Mozilla/5.0'})\n",
    "html = urlopen(req).read()"
   ]
  },
  {
   "cell_type": "code",
   "execution_count": 237,
   "metadata": {},
   "outputs": [],
   "source": [
    "page_soup = soup(html, \"html.parser\")\n",
    "containers = page_soup.findAll(\"div\", {\"class\": \"displaypanel-content\"})"
   ]
  },
  {
   "cell_type": "code",
   "execution_count": 238,
   "metadata": {},
   "outputs": [],
   "source": [
    "out_filename = \"RE_house_listings.csv\"\n",
    "headers = 'price, address, region, city, bedrooms, bathrooms, sqft \\n'"
   ]
  },
  {
   "cell_type": "code",
   "execution_count": 239,
   "metadata": {},
   "outputs": [
    {
     "output_type": "execute_result",
     "data": {
      "text/plain": [
       "57"
      ]
     },
     "metadata": {},
     "execution_count": 239
    }
   ],
   "source": [
    "#Writing File\n",
    "f = open(out_filename, \"w\")\n",
    "f.write(headers)"
   ]
  },
  {
   "cell_type": "code",
   "execution_count": 240,
   "metadata": {},
   "outputs": [
    {
     "output_type": "stream",
     "name": "stdout",
     "text": [
      "price: 1478888\n\naddress: 1005-1450 Pennyfarthing Drive | Vancouver | BC | V6J 4X8\n\nregion: False Creek\n\ncity: Vancouver\n\nbedrooms: 2\n\nbathrooms: 2\n\nsqft: 1121\n\nprice: 699900\n\naddress: 1005-1450 Pennyfarthing Drive | Vancouver | BC | V6J 4X8\n\nregion: Downtown West\n\ncity: Vancouver\n\nbedrooms: 2\n\nbathrooms: 1\n\nsqft: 759\n\nprice: 1888000\n\naddress: 1005-1450 Pennyfarthing Drive | Vancouver | BC | V6J 4X8\n\nregion: South Vancouver\n\ncity: Vancouver\n\nbedrooms: 8\n\nbathrooms: 6\n\nsqft: 2936\n\nprice: 3680000\n\naddress: 1005-1450 Pennyfarthing Drive | Vancouver | BC | V6J 4X8\n\nregion: Dunbar\n\ncity: Vancouver\n\nbedrooms: 7\n\nbathrooms: 3\n\nsqft: 3104\n\nprice: 1248800\n\naddress: 1005-1450 Pennyfarthing Drive | Vancouver | BC | V6J 4X8\n\nregion: South Granville\n\ncity: Vancouver\n\nbedrooms: 3\n\nbathrooms: 2\n\nsqft: 1023\n\nprice: 3880000\n\naddress: 1005-1450 Pennyfarthing Drive | Vancouver | BC | V6J 4X8\n\nregion: Point Grey\n\ncity: Vancouver\n\nbedrooms: 5\n\nbathrooms: 5\n\nsqft: 2822\n\nprice: 1269900\n\naddress: 1005-1450 Pennyfarthing Drive | Vancouver | BC | V6J 4X8\n\nregion: Fairview\n\ncity: Vancouver\n\nbedrooms: 2\n\nbathrooms: 3\n\nsqft: 1201\n\nprice: 4788000\n\naddress: 1005-1450 Pennyfarthing Drive | Vancouver | BC | V6J 4X8\n\nregion: Southlands\n\ncity: Vancouver\n\nbedrooms: 5\n\nbathrooms: 4\n\nsqft: 5388\n\nprice: 5690000\n\naddress: 1005-1450 Pennyfarthing Drive | Vancouver | BC | V6J 4X8\n\nregion: Quilchena\n\ncity: Vancouver\n\nbedrooms: 6\n\nbathrooms: 7\n\nsqft: 4350\n\nprice: 599000\n\naddress: 1005-1450 Pennyfarthing Drive | Vancouver | BC | V6J 4X8\n\nregion: Downtown West\n\ncity: Vancouver\n\nbedrooms: 1\n\nbathrooms: 1\n\nsqft: 527\n\nprice: 1799000\n\naddress: 1005-1450 Pennyfarthing Drive | Vancouver | BC | V6J 4X8\n\nregion: Renfrew\n\ncity: Vancouver\n\nbedrooms: 6\n\nbathrooms: 4\n\nsqft: 2964\n\nprice: 829000\n\naddress: 1005-1450 Pennyfarthing Drive | Vancouver | BC | V6J 4X8\n\nregion: Downtown East\n\ncity: Vancouver\n\nbedrooms: 3\n\nbathrooms: 2\n\nsqft: 875\n\nprice: 599000\n\naddress: 1005-1450 Pennyfarthing Drive | Vancouver | BC | V6J 4X8\n\nregion: Downtown West\n\ncity: Vancouver\n\nbedrooms: 1\n\nbathrooms: 1\n\nsqft: 620\n\nprice: 2168000\n\naddress: 1005-1450 Pennyfarthing Drive | Vancouver | BC | V6J 4X8\n\nregion: Fairview\n\ncity: Vancouver\n\nbedrooms: 3\n\nbathrooms: 2\n\nsqft: 1452\n\nprice: 1498000\n\naddress: 1005-1450 Pennyfarthing Drive | Vancouver | BC | V6J 4X8\n\nregion: Fraserview East\n\ncity: Vancouver\n\nbedrooms: 5\n\nbathrooms: 3\n\nsqft: 2370\n\nprice: 2380000\n\naddress: 1005-1450 Pennyfarthing Drive | Vancouver | BC | V6J 4X8\n\nregion: Marpole\n\ncity: Vancouver\n\nbedrooms: 4\n\nbathrooms: 4\n\nsqft: 2581\n\nprice: 795000\n\naddress: 1005-1450 Pennyfarthing Drive | Vancouver | BC | V6J 4X8\n\nregion: Victoria East\n\ncity: Vancouver\n\nbedrooms: 2\n\nbathrooms: 2\n\nsqft: 785\n\nprice: 3838000\n\naddress: 1005-1450 Pennyfarthing Drive | Vancouver | BC | V6J 4X8\n\nregion: Fairview\n\ncity: Vancouver\n\nbedrooms: 4\n\nbathrooms: 8\n\nsqft: 3270\n\nprice: 1980000\n\naddress: 1005-1450 Pennyfarthing Drive | Vancouver | BC | V6J 4X8\n\nregion: Fraserview East\n\ncity: Vancouver\n\nbedrooms: 6\n\nbathrooms: 5\n\nsqft: 3024\n\nprice: 549000\n\naddress: 1005-1450 Pennyfarthing Drive | Vancouver | BC | V6J 4X8\n\nregion: Grandview East\n\ncity: Vancouver\n\nbedrooms: 1\n\nbathrooms: 1\n\nsqft: 635\n\nprice: 469000\n\naddress: 1005-1450 Pennyfarthing Drive | Vancouver | BC | V6J 4X8\n\nregion: Kitsilano\n\ncity: Vancouver\n\nbedrooms: 0\n\nbathrooms: 1\n\nsqft: 481\n\nprice: 655000\n\naddress: 1005-1450 Pennyfarthing Drive | Vancouver | BC | V6J 4X8\n\nregion: Yaletown\n\ncity: Vancouver\n\nbedrooms: 1\n\nbathrooms: 1\n\nsqft: 561\n\n"
     ]
    },
    {
     "output_type": "error",
     "ename": "IndexError",
     "evalue": "list index out of range",
     "traceback": [
      "\u001b[1;31m---------------------------------------------------------------------------\u001b[0m",
      "\u001b[1;31mIndexError\u001b[0m                                Traceback (most recent call last)",
      "\u001b[1;32m<ipython-input-240-689fce62cc8e>\u001b[0m in \u001b[0;36m<module>\u001b[1;34m\u001b[0m\n\u001b[0;32m      2\u001b[0m \u001b[1;32mfor\u001b[0m \u001b[0mcontainer\u001b[0m \u001b[1;32min\u001b[0m \u001b[0mcontainers\u001b[0m\u001b[1;33m:\u001b[0m\u001b[1;33m\u001b[0m\u001b[1;33m\u001b[0m\u001b[0m\n\u001b[0;32m      3\u001b[0m     \u001b[0msoup\u001b[0m \u001b[1;33m=\u001b[0m \u001b[0mcontainer\u001b[0m\u001b[1;33m\u001b[0m\u001b[1;33m\u001b[0m\u001b[0m\n\u001b[1;32m----> 4\u001b[1;33m     \u001b[0mprice\u001b[0m \u001b[1;33m=\u001b[0m \u001b[0mcontainer\u001b[0m\u001b[1;33m.\u001b[0m\u001b[0mfindAll\u001b[0m\u001b[1;33m(\u001b[0m\u001b[1;34m'div'\u001b[0m\u001b[1;33m,\u001b[0m \u001b[1;33m{\u001b[0m\u001b[1;34m'class'\u001b[0m\u001b[1;33m:\u001b[0m \u001b[1;34m'displaypanel-title hidden-xs'\u001b[0m\u001b[1;33m}\u001b[0m\u001b[1;33m)\u001b[0m\u001b[1;33m[\u001b[0m\u001b[1;36m0\u001b[0m\u001b[1;33m]\u001b[0m\u001b[1;33m.\u001b[0m\u001b[0mtext\u001b[0m\u001b[1;33m.\u001b[0m\u001b[0mstrip\u001b[0m\u001b[1;33m(\u001b[0m\u001b[1;33m)\u001b[0m\u001b[1;33m.\u001b[0m\u001b[0mreplace\u001b[0m\u001b[1;33m(\u001b[0m\u001b[1;34m\"$\"\u001b[0m\u001b[1;33m,\u001b[0m \u001b[1;34m\"\"\u001b[0m\u001b[1;33m)\u001b[0m\u001b[1;33m.\u001b[0m\u001b[0mreplace\u001b[0m\u001b[1;33m(\u001b[0m\u001b[1;34m\",\"\u001b[0m\u001b[1;33m,\u001b[0m \u001b[1;34m\"\"\u001b[0m\u001b[1;33m)\u001b[0m\u001b[1;33m\u001b[0m\u001b[1;33m\u001b[0m\u001b[0m\n\u001b[0m\u001b[0;32m      5\u001b[0m     \u001b[0maddress\u001b[0m \u001b[1;33m=\u001b[0m \u001b[0mcontainertest\u001b[0m\u001b[1;33m.\u001b[0m\u001b[0mdiv\u001b[0m\u001b[1;33m.\u001b[0m\u001b[0ma\u001b[0m\u001b[1;33m[\u001b[0m\u001b[1;34m'title'\u001b[0m\u001b[1;33m]\u001b[0m\u001b[1;33m.\u001b[0m\u001b[0mreplace\u001b[0m\u001b[1;33m(\u001b[0m\u001b[1;34m\",\"\u001b[0m\u001b[1;33m,\u001b[0m \u001b[1;34m\" |\"\u001b[0m\u001b[1;33m)\u001b[0m\u001b[1;33m\u001b[0m\u001b[1;33m\u001b[0m\u001b[0m\n\u001b[0;32m      6\u001b[0m     \u001b[0mregion\u001b[0m \u001b[1;33m=\u001b[0m \u001b[0msoup\u001b[0m\u001b[1;33m.\u001b[0m\u001b[0mselect\u001b[0m\u001b[1;33m(\u001b[0m\u001b[1;34m'ul > li'\u001b[0m\u001b[1;33m)\u001b[0m\u001b[1;33m[\u001b[0m\u001b[1;36m0\u001b[0m\u001b[1;33m]\u001b[0m\u001b[1;33m.\u001b[0m\u001b[0mget_text\u001b[0m\u001b[1;33m(\u001b[0m\u001b[0mstrip\u001b[0m\u001b[1;33m=\u001b[0m\u001b[1;32mTrue\u001b[0m\u001b[1;33m)\u001b[0m\u001b[1;33m\u001b[0m\u001b[1;33m\u001b[0m\u001b[0m\n",
      "\u001b[1;31mIndexError\u001b[0m: list index out of range"
     ]
    }
   ],
   "source": [
    "#writing the loop\n",
    "for container in containers:\n",
    "    soup = container\n",
    "    price = container.findAll('div', {'class': 'displaypanel-title hidden-xs'})[0].text.strip().replace(\"$\", \"\").replace(\",\", \"\")\n",
    "    address = containertest.div.a['title'].replace(\",\", \" |\")\n",
    "    region = soup.select('ul > li')[0].get_text(strip=True)\n",
    "    city = soup.select('ul > li')[1].get_text(strip=True)\n",
    "    bedrooms = soup.select('ul > li')[2].get_text(strip=True).replace(\" bd\", \"\")\n",
    "    bathrooms = soup.select('ul > li')[3].get_text(strip=True).replace(\" ba\", \"\")\n",
    "    sqft = soup.select('ul > li')[4].get_text(strip=True).replace(\" sf\", \"\")\n",
    "    print(\"price: \" + price + \"\\n\")\n",
    "    print(\"address: \" + address + \"\\n\")\n",
    "    print(\"region: \" + region + \"\\n\")\n",
    "    print(\"city: \" + city + \"\\n\")\n",
    "    print(\"bedrooms: \" + bedrooms + \"\\n\")\n",
    "    print(\"bathrooms: \" + bathrooms + \"\\n\")\n",
    "    print(\"sqft: \" + sqft + \"\\n\")\n",
    "    f.write(price + \", \" + address + \", \" + region + \", \"+ city + \", \"+ bedrooms + \", \" + bathrooms + \", \" + sqft + \", \"    +\"\\n\")\n",
    "\n",
    "f.close() \n"
   ]
  },
  {
   "source": [
    "## -----TEST SAMPLE TO EXTRACT INDIVIDUAL ELEMENTS----- ##"
   ],
   "cell_type": "markdown",
   "metadata": {}
  },
  {
   "cell_type": "code",
   "execution_count": 40,
   "metadata": {},
   "outputs": [],
   "source": [
    "# Writing test file to extract individual elements needed\n",
    "containertest = containers[0]"
   ]
  },
  {
   "cell_type": "code",
   "execution_count": 234,
   "metadata": {},
   "outputs": [
    {
     "output_type": "stream",
     "name": "stdout",
     "text": [
      "1275000\n1005-1450 Pennyfarthing Drive | Vancouver | BC | V6J 4X8\n2 bd\nVancouver\n2\n2\n1156\n"
     ]
    }
   ],
   "source": [
    "# Finding the price of property, and cleaning it\n",
    "print(containertest.findAll('div', {'class': 'displaypanel-title hidden-xs'})[0].text.strip().replace(\"$\", \"\").replace(\",\", \"\"))\n",
    "\n",
    "#Finding location of the property\n",
    "print(containertest.div.a['title'].replace(\",\", \" |\"))\n",
    "\n",
    "# Getting Region \n",
    "soup = container\n",
    "print(soup.select('ul > li')[0].get_text(strip=True))\n",
    "\n",
    "# Getting City\n",
    "soup = BeautifulSoup = containertest\n",
    "print(soup.select('ul > li')[1].get_text(strip=True))\n",
    "\n",
    "# Getting # of Bedrooms\n",
    "soup = BeautifulSoup = containertest\n",
    "print(soup.select('ul > li')[2].get_text(strip=True).replace(\" bd\", \"\"))\n",
    "\n",
    "# Getting # of Bathrooms\n",
    "soup = BeautifulSoup = containertest\n",
    "print(soup.select('ul > li')[3].get_text(strip=True).replace(\" ba\", \"\"))\n",
    "\n",
    "# Getting sqft\n",
    "soup = BeautifulSoup = containertest\n",
    "print(soup.select('ul > li')[4].get_text(strip=True).replace(\" sf\", \"\"))"
   ]
  },
  {
   "cell_type": "code",
   "execution_count": null,
   "metadata": {},
   "outputs": [],
   "source": []
  }
 ]
}