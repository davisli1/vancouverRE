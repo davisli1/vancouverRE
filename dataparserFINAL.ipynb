{
 "metadata": {
  "language_info": {
   "codemirror_mode": {
    "name": "ipython",
    "version": 3
   },
   "file_extension": ".py",
   "mimetype": "text/x-python",
   "name": "python",
   "nbconvert_exporter": "python",
   "pygments_lexer": "ipython3",
   "version": "3.8.3-final"
  },
  "orig_nbformat": 2,
  "kernelspec": {
   "name": "python3",
   "display_name": "Python 3",
   "language": "python"
  }
 },
 "nbformat": 4,
 "nbformat_minor": 2,
 "cells": [
  {
   "source": [
    "# Data Parser\n",
    "\n",
    "Pulling from rew.ca, page 1-25"
   ],
   "cell_type": "markdown",
   "metadata": {}
  },
  {
   "cell_type": "code",
   "execution_count": 41,
   "metadata": {},
   "outputs": [],
   "source": [
    "from bs4 import BeautifulSoup as soup \n",
    "from urllib.request import urlopen as uReq \n",
    "from urllib.request import Request, urlopen\n",
    "import pandas as pd \n",
    "import numpy as np\n",
    "\n",
    "pages = 25\n",
    "\n",
    "#Writing data storages\n",
    "prices = []\n",
    "addresses = []\n",
    "proptypes = []\n",
    "regions = []\n",
    "cities = []\n",
    "no_bedrooms = []\n",
    "no_bathrooms = []\n",
    "sf = []\n",
    "\n",
    "for page in range(pages):\n",
    "    #assigning URL to scrap from\n",
    "    page_url = \"https://www.rew.ca/properties/areas/vancouver-bc/page/\"+str(page+1)+\"?ajax=true\"\n",
    "    req = Request(page_url, headers={'User-Agent': 'Mozilla/5.0'})\n",
    "    html = urlopen(req).read()\n",
    "\n",
    "    page_soup = soup(html, \"html.parser\")\n",
    "    containers = page_soup.findAll(\"div\", {\"class\": \"displaypanel-content\"})\n",
    "\n",
    "    \n",
    "\n",
    "    #writing the loop\n",
    "\n",
    "    for container in containers:\n",
    "        if len(container) == 5 and container.findAll('div', {'class': 'displaypanel-info'})[0].text.strip() != 'Land/Lot' and container.findAll('div', {'class': 'displaypanel-info'})[0].text.strip() != 'Multifamily':\n",
    "            price = container.findAll('div', {'class': 'displaypanel-title'})[0].text.strip().replace(\"$\", \"\").replace(\",\", \"\")\n",
    "            address = container.div.a['title'][: container.div.a['title'].find(',')]\n",
    "            proptype = container.findAll('div', {'class': 'displaypanel-info'})[0].text.strip()\n",
    "            region = container.select('ul > li')[0].get_text(strip=True)\n",
    "            city = container.select('ul > li')[1].get_text(strip=True)\n",
    "            bedrooms = container.select('ul > li')[2].get_text(strip=True).replace(\" bd\", \"\")\n",
    "            bathrooms = container.select('ul > li')[3].get_text(strip=True).replace(\" ba\", \"\")\n",
    "            sqft = container.select('ul > li')[4].get_text(strip=True).replace(\" sf\", \"\")\n",
    "\n",
    "            prices.append(price)\n",
    "            addresses.append(address)\n",
    "            proptypes.append(proptype)\n",
    "            regions.append(region)\n",
    "            cities.append(city)\n",
    "            no_bedrooms.append(bedrooms)\n",
    "            no_bathrooms.append(bathrooms)\n",
    "            sf.append(sqft)\n",
    "        else:\n",
    "            pass\n",
    "realestate = pd.DataFrame({'price': prices, 'address': addresses, 'proptype': proptypes, 'region': regions, 'city': cities, 'bedrooms': no_bedrooms, 'bathrooms': no_bathrooms, 'sqft': sf})\n",
    "\n",
    "realestate.to_csv('RE_listings_1.csv')\n"
   ]
  },
  {
   "source": [
    "## -----TEST TO EXTRACT INDIVIDUAL ELEMENTS/ROUGH WORK----- ##"
   ],
   "cell_type": "markdown",
   "metadata": {}
  },
  {
   "cell_type": "code",
   "execution_count": 3,
   "metadata": {},
   "outputs": [],
   "source": [
    "# Writing test file to extract individual elements needed\n",
    "containertest = containers[21]\n",
    "containertest2 = containers[22]"
   ]
  },
  {
   "cell_type": "code",
   "execution_count": 4,
   "metadata": {},
   "outputs": [
    {
     "output_type": "stream",
     "name": "stdout",
     "text": [
      "Apt/Condo\n"
     ]
    }
   ],
   "source": [
    "print(containertest.findAll('div', {'class': 'displaypanel-info'})[0].text.strip())\n"
   ]
  },
  {
   "cell_type": "code",
   "execution_count": 179,
   "metadata": {},
   "outputs": [
    {
     "output_type": "stream",
     "name": "stdout",
     "text": [
      "655000\n1407-977 Mainland Street\n2 bd\nVancouver\n1\n1\n561\n"
     ]
    }
   ],
   "source": [
    "# Finding the price of property, and cleaning it\n",
    "print(containertest.findAll('div', {'class': 'displaypanel-title'})[0].text.strip().replace(\"$\", \"\").replace(\",\", \"\"))\n",
    "\n",
    "#Finding location of the property\n",
    "print(containertest.div.a['title'][: containertest.div.a['title'].find(',')])\n",
    "\n",
    "# Getting Region \n",
    "soup = container\n",
    "print(soup.select('ul > li')[0].get_text(strip=True))\n",
    "\n",
    "# Getting City\n",
    "soup = BeautifulSoup = containertest\n",
    "print(soup.select('ul > li')[1].get_text(strip=True))\n",
    "\n",
    "# Getting # of Bedrooms\n",
    "soup = BeautifulSoup = containertest\n",
    "print(soup.select('ul > li')[2].get_text(strip=True).replace(\" bd\", \"\"))\n",
    "\n",
    "# Getting # of Bathrooms\n",
    "soup = BeautifulSoup = containertest\n",
    "print(soup.select('ul > li')[3].get_text(strip=True).replace(\" ba\", \"\"))\n",
    "\n",
    "# Getting sqft\n",
    "soup = BeautifulSoup = containertest\n",
    "print(soup.select('ul > li')[4].get_text(strip=True).replace(\" sf\", \"\"))"
   ]
  },
  {
   "cell_type": "code",
   "execution_count": 8,
   "metadata": {},
   "outputs": [
    {
     "output_type": "execute_result",
     "data": {
      "text/plain": [
       "5"
      ]
     },
     "metadata": {},
     "execution_count": 8
    }
   ],
   "source": [
    "len(containers[1])"
   ]
  },
  {
   "cell_type": "code",
   "execution_count": 198,
   "metadata": {},
   "outputs": [
    {
     "output_type": "execute_result",
     "data": {
      "text/plain": [
       "4"
      ]
     },
     "metadata": {},
     "execution_count": 198
    }
   ],
   "source": [
    "len(containertest2)"
   ]
  }
 ]
}